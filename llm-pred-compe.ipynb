{
 "cells": [
  {
   "cell_type": "code",
   "execution_count": 1,
   "id": "598f003a",
   "metadata": {
    "_cell_guid": "b1076dfc-b9ad-4769-8c92-a6c4dae69d19",
    "_uuid": "8f2839f25d086af736a60e9eeb907d3b93b6e0e5",
    "execution": {
     "iopub.execute_input": "2023-12-06T10:32:55.187261Z",
     "iopub.status.busy": "2023-12-06T10:32:55.186412Z",
     "iopub.status.idle": "2023-12-06T10:32:55.561208Z",
     "shell.execute_reply": "2023-12-06T10:32:55.559944Z"
    },
    "papermill": {
     "duration": 0.383521,
     "end_time": "2023-12-06T10:32:55.563650",
     "exception": false,
     "start_time": "2023-12-06T10:32:55.180129",
     "status": "completed"
    },
    "tags": []
   },
   "outputs": [
    {
     "name": "stdout",
     "output_type": "stream",
     "text": [
      "/kaggle/input/llm-detect-ai-generated-text/sample_submission.csv\n",
      "/kaggle/input/llm-detect-ai-generated-text/train_prompts.csv\n",
      "/kaggle/input/llm-detect-ai-generated-text/test_essays.csv\n",
      "/kaggle/input/llm-detect-ai-generated-text/train_essays.csv\n",
      "/kaggle/input/daigt-v2-train-dataset/train_v2_drcat_02.csv\n"
     ]
    }
   ],
   "source": [
    "# This Python 3 environment comes with many helpful analytics libraries installed\n",
    "# It is defined by the kaggle/python Docker image: https://github.com/kaggle/docker-python\n",
    "# For example, here's several helpful packages to load\n",
    "\n",
    "import numpy as np # linear algebra\n",
    "import pandas as pd # data processing, CSV file I/O (e.g. pd.read_csv)\n",
    "import matplotlib.pyplot as plt\n",
    "# Input data files are available in the read-only \"../input/\" directory\n",
    "# For example, running this (by clicking run or pressing Shift+Enter) will list all files under the input directory\n",
    "from collections import Counter\n",
    "import os\n",
    "for dirname, _, filenames in os.walk('/kaggle/input'):\n",
    "    for filename in filenames:\n",
    "        print(os.path.join(dirname, filename))\n",
    "\n",
    "# You can write up to 20GB to the current directory (/kaggle/working/) that gets preserved as output when you create a version using \"Save & Run All\" \n",
    "# You can also write temporary files to /kaggle/temp/, but they won't be saved outside of the current session"
   ]
  },
  {
   "cell_type": "code",
   "execution_count": 2,
   "id": "979da449",
   "metadata": {
    "execution": {
     "iopub.execute_input": "2023-12-06T10:32:55.576166Z",
     "iopub.status.busy": "2023-12-06T10:32:55.575675Z",
     "iopub.status.idle": "2023-12-06T10:32:55.696962Z",
     "shell.execute_reply": "2023-12-06T10:32:55.695942Z"
    },
    "papermill": {
     "duration": 0.130078,
     "end_time": "2023-12-06T10:32:55.699995",
     "exception": false,
     "start_time": "2023-12-06T10:32:55.569917",
     "status": "completed"
    },
    "tags": []
   },
   "outputs": [
    {
     "data": {
      "text/html": [
       "<div>\n",
       "<style scoped>\n",
       "    .dataframe tbody tr th:only-of-type {\n",
       "        vertical-align: middle;\n",
       "    }\n",
       "\n",
       "    .dataframe tbody tr th {\n",
       "        vertical-align: top;\n",
       "    }\n",
       "\n",
       "    .dataframe thead th {\n",
       "        text-align: right;\n",
       "    }\n",
       "</style>\n",
       "<table border=\"1\" class=\"dataframe\">\n",
       "  <thead>\n",
       "    <tr style=\"text-align: right;\">\n",
       "      <th></th>\n",
       "      <th>id</th>\n",
       "      <th>prompt_id</th>\n",
       "      <th>text</th>\n",
       "      <th>generated</th>\n",
       "    </tr>\n",
       "  </thead>\n",
       "  <tbody>\n",
       "    <tr>\n",
       "      <th>0</th>\n",
       "      <td>0059830c</td>\n",
       "      <td>0</td>\n",
       "      <td>Cars. Cars have been around since they became ...</td>\n",
       "      <td>0</td>\n",
       "    </tr>\n",
       "    <tr>\n",
       "      <th>1</th>\n",
       "      <td>005db917</td>\n",
       "      <td>0</td>\n",
       "      <td>Transportation is a large necessity in most co...</td>\n",
       "      <td>0</td>\n",
       "    </tr>\n",
       "    <tr>\n",
       "      <th>2</th>\n",
       "      <td>008f63e3</td>\n",
       "      <td>0</td>\n",
       "      <td>\"America's love affair with it's vehicles seem...</td>\n",
       "      <td>0</td>\n",
       "    </tr>\n",
       "    <tr>\n",
       "      <th>3</th>\n",
       "      <td>00940276</td>\n",
       "      <td>0</td>\n",
       "      <td>How often do you ride in a car? Do you drive a...</td>\n",
       "      <td>0</td>\n",
       "    </tr>\n",
       "    <tr>\n",
       "      <th>4</th>\n",
       "      <td>00c39458</td>\n",
       "      <td>0</td>\n",
       "      <td>Cars are a wonderful thing. They are perhaps o...</td>\n",
       "      <td>0</td>\n",
       "    </tr>\n",
       "    <tr>\n",
       "      <th>...</th>\n",
       "      <td>...</td>\n",
       "      <td>...</td>\n",
       "      <td>...</td>\n",
       "      <td>...</td>\n",
       "    </tr>\n",
       "    <tr>\n",
       "      <th>1373</th>\n",
       "      <td>fe6ff9a5</td>\n",
       "      <td>1</td>\n",
       "      <td>There has been a fuss about the Elector Colleg...</td>\n",
       "      <td>0</td>\n",
       "    </tr>\n",
       "    <tr>\n",
       "      <th>1374</th>\n",
       "      <td>ff669174</td>\n",
       "      <td>0</td>\n",
       "      <td>Limiting car usage has many advantages. Such a...</td>\n",
       "      <td>0</td>\n",
       "    </tr>\n",
       "    <tr>\n",
       "      <th>1375</th>\n",
       "      <td>ffa247e0</td>\n",
       "      <td>0</td>\n",
       "      <td>There's a new trend that has been developing f...</td>\n",
       "      <td>0</td>\n",
       "    </tr>\n",
       "    <tr>\n",
       "      <th>1376</th>\n",
       "      <td>ffc237e9</td>\n",
       "      <td>0</td>\n",
       "      <td>As we all know cars are a big part of our soci...</td>\n",
       "      <td>0</td>\n",
       "    </tr>\n",
       "    <tr>\n",
       "      <th>1377</th>\n",
       "      <td>ffe1ca0d</td>\n",
       "      <td>0</td>\n",
       "      <td>Cars have been around since the 1800's and hav...</td>\n",
       "      <td>0</td>\n",
       "    </tr>\n",
       "  </tbody>\n",
       "</table>\n",
       "<p>1378 rows × 4 columns</p>\n",
       "</div>"
      ],
      "text/plain": [
       "            id  prompt_id                                               text  \\\n",
       "0     0059830c          0  Cars. Cars have been around since they became ...   \n",
       "1     005db917          0  Transportation is a large necessity in most co...   \n",
       "2     008f63e3          0  \"America's love affair with it's vehicles seem...   \n",
       "3     00940276          0  How often do you ride in a car? Do you drive a...   \n",
       "4     00c39458          0  Cars are a wonderful thing. They are perhaps o...   \n",
       "...        ...        ...                                                ...   \n",
       "1373  fe6ff9a5          1  There has been a fuss about the Elector Colleg...   \n",
       "1374  ff669174          0  Limiting car usage has many advantages. Such a...   \n",
       "1375  ffa247e0          0  There's a new trend that has been developing f...   \n",
       "1376  ffc237e9          0  As we all know cars are a big part of our soci...   \n",
       "1377  ffe1ca0d          0  Cars have been around since the 1800's and hav...   \n",
       "\n",
       "      generated  \n",
       "0             0  \n",
       "1             0  \n",
       "2             0  \n",
       "3             0  \n",
       "4             0  \n",
       "...         ...  \n",
       "1373          0  \n",
       "1374          0  \n",
       "1375          0  \n",
       "1376          0  \n",
       "1377          0  \n",
       "\n",
       "[1378 rows x 4 columns]"
      ]
     },
     "execution_count": 2,
     "metadata": {},
     "output_type": "execute_result"
    }
   ],
   "source": [
    "train_path = r'/kaggle/input/llm-detect-ai-generated-text/train_essays.csv'\n",
    "train_df = pd.read_csv(train_path)\n",
    "train_df\n"
   ]
  },
  {
   "cell_type": "code",
   "execution_count": 3,
   "id": "931d8513",
   "metadata": {
    "execution": {
     "iopub.execute_input": "2023-12-06T10:32:55.712161Z",
     "iopub.status.busy": "2023-12-06T10:32:55.711827Z",
     "iopub.status.idle": "2023-12-06T10:32:55.723567Z",
     "shell.execute_reply": "2023-12-06T10:32:55.722809Z"
    },
    "papermill": {
     "duration": 0.020763,
     "end_time": "2023-12-06T10:32:55.726375",
     "exception": false,
     "start_time": "2023-12-06T10:32:55.705612",
     "status": "completed"
    },
    "tags": []
   },
   "outputs": [
    {
     "name": "stdout",
     "output_type": "stream",
     "text": [
      "generated\n",
      "0    1375\n",
      "1       3\n",
      "Name: count, dtype: int64\n"
     ]
    }
   ],
   "source": [
    "print(train_df['generated'].value_counts())"
   ]
  },
  {
   "cell_type": "code",
   "execution_count": 4,
   "id": "5c0e0136",
   "metadata": {
    "execution": {
     "iopub.execute_input": "2023-12-06T10:32:55.738127Z",
     "iopub.status.busy": "2023-12-06T10:32:55.737463Z",
     "iopub.status.idle": "2023-12-06T10:32:55.917583Z",
     "shell.execute_reply": "2023-12-06T10:32:55.916206Z"
    },
    "papermill": {
     "duration": 0.191018,
     "end_time": "2023-12-06T10:32:55.922377",
     "exception": false,
     "start_time": "2023-12-06T10:32:55.731359",
     "status": "completed"
    },
    "tags": []
   },
   "outputs": [
    {
     "data": {
      "text/plain": [
       "<Axes: ylabel='count'>"
      ]
     },
     "execution_count": 4,
     "metadata": {},
     "output_type": "execute_result"
    },
    {
     "data": {
      "image/png": "[encoded data removed]",
      "text/plain": [
       "<Figure size 640x480 with 1 Axes>"
      ]
     },
     "metadata": {},
     "output_type": "display_data"
    }
   ],
   "source": [
    "train_df['generated'].value_counts().plot.pie(autopct = '%.2f')"
   ]
  },
  {
   "cell_type": "markdown",
   "id": "4cd4cf69",
   "metadata": {
    "papermill": {
     "duration": 0.008534,
     "end_time": "2023-12-06T10:32:55.940754",
     "exception": false,
     "start_time": "2023-12-06T10:32:55.932220",
     "status": "completed"
    },
    "tags": []
   },
   "source": []
  },
  {
   "cell_type": "code",
   "execution_count": 5,
   "id": "f3a48bd6",
   "metadata": {
    "execution": {
     "iopub.execute_input": "2023-12-06T10:32:55.960955Z",
     "iopub.status.busy": "2023-12-06T10:32:55.959581Z",
     "iopub.status.idle": "2023-12-06T10:32:57.965178Z",
     "shell.execute_reply": "2023-12-06T10:32:57.964176Z"
    },
    "papermill": {
     "duration": 2.018045,
     "end_time": "2023-12-06T10:32:57.967370",
     "exception": false,
     "start_time": "2023-12-06T10:32:55.949325",
     "status": "completed"
    },
    "tags": []
   },
   "outputs": [
    {
     "name": "stdout",
     "output_type": "stream",
     "text": [
      "Shape of term-frequency matrix: (1378, 16355)\n",
      "  (0, 16326)\t0.028664428002510223\n",
      "  (0, 16295)\t0.026532560651896884\n",
      "  (0, 16225)\t0.03899833356645695\n",
      "  (0, 16181)\t0.022275075889709704\n",
      "  (0, 16129)\t0.039404355465445254\n",
      "  (0, 16115)\t0.02391632479606156\n",
      "  (0, 15999)\t0.03568469307884198\n",
      "  (0, 15996)\t0.014222536983060554\n",
      "  (0, 15960)\t0.019284718002249818\n",
      "  (0, 15903)\t0.013784627501051647\n",
      "  (0, 15872)\t0.014211632912861035\n",
      "  (0, 15825)\t0.024609147025850268\n",
      "  (0, 15485)\t0.1099041424682003\n",
      "  (0, 15478)\t0.019889067531014788\n",
      "  (0, 15457)\t0.03681969027962959\n",
      "  (0, 15432)\t0.04879883274034297\n",
      "  (0, 15301)\t0.017688732242256536\n",
      "  (0, 15245)\t0.03884370003706912\n",
      "  (0, 14839)\t0.09512172703937144\n",
      "  (0, 14758)\t0.03346121433593529\n",
      "  (0, 14684)\t0.2395139939460885\n",
      "  (0, 14650)\t0.049321541690258444\n",
      "  (0, 14608)\t0.031377229970531106\n",
      "  (0, 14548)\t0.04584715203076843\n",
      "  (0, 14536)\t0.041066132113378825\n",
      "  :\t:\n",
      "  (1377, 1775)\t0.06448075616643686\n",
      "  (1377, 1771)\t0.03680532968128831\n",
      "  (1377, 1768)\t0.10425356118233375\n",
      "  (1377, 1714)\t0.04272875921159485\n",
      "  (1377, 1683)\t0.06185165392944781\n",
      "  (1377, 1663)\t0.04802290873929224\n",
      "  (1377, 1629)\t0.03779062477608169\n",
      "  (1377, 1588)\t0.0719079209580551\n",
      "  (1377, 1397)\t0.09101859954457868\n",
      "  (1377, 1278)\t0.014001173672860284\n",
      "  (1377, 1234)\t0.05062366329103281\n",
      "  (1377, 1184)\t0.03177321555439728\n",
      "  (1377, 1178)\t0.18731481524575266\n",
      "  (1377, 971)\t0.21787554542512264\n",
      "  (1377, 950)\t0.01695318093019966\n",
      "  (1377, 939)\t0.04939773666718759\n",
      "  (1377, 911)\t0.02528566068616182\n",
      "  (1377, 879)\t0.06427297568191928\n",
      "  (1377, 870)\t0.03757577531089278\n",
      "  (1377, 862)\t0.06606136622423547\n",
      "  (1377, 809)\t0.029375805212415014\n",
      "  (1377, 681)\t0.03680532968128831\n",
      "  (1377, 223)\t0.032463568761745124\n",
      "  (1377, 60)\t0.08612143534695224\n",
      "  (1377, 28)\t0.033347711643977124\n"
     ]
    },
    {
     "data": {
      "text/plain": [
       "array([[0., 0., 0., ..., 0., 0., 0.],\n",
       "       [0., 0., 0., ..., 0., 0., 0.],\n",
       "       [0., 0., 0., ..., 0., 0., 0.],\n",
       "       ...,\n",
       "       [0., 0., 0., ..., 0., 0., 0.],\n",
       "       [0., 0., 0., ..., 0., 0., 0.],\n",
       "       [0., 0., 0., ..., 0., 0., 0.]])"
      ]
     },
     "execution_count": 5,
     "metadata": {},
     "output_type": "execute_result"
    }
   ],
   "source": [
    "from sklearn.feature_extraction.text import CountVectorizer\n",
    "\n",
    "count_vect = CountVectorizer()\n",
    "\n",
    "X_train_tf = count_vect.fit_transform(train_df[\"text\"])\n",
    "\n",
    "print(\"Shape of term-frequency matrix:\", X_train_tf.shape)\n",
    "\n",
    "from sklearn.feature_extraction.text import TfidfTransformer\n",
    "\n",
    "tfidf_transformer = TfidfTransformer()\n",
    "X_train_tfidf = tfidf_transformer.fit_transform(X_train_tf)\n",
    "print(X_train_tfidf)\n",
    "X_train_tfidf = np.asarray(X_train_tfidf.toarray())\n",
    "X_train_tfidf"
   ]
  },
  {
   "cell_type": "markdown",
   "id": "f400b6d1",
   "metadata": {
    "papermill": {
     "duration": 0.005211,
     "end_time": "2023-12-06T10:32:57.978057",
     "exception": false,
     "start_time": "2023-12-06T10:32:57.972846",
     "status": "completed"
    },
    "tags": []
   },
   "source": []
  },
  {
   "cell_type": "code",
   "execution_count": 6,
   "id": "25e28c9f",
   "metadata": {
    "execution": {
     "iopub.execute_input": "2023-12-06T10:32:57.990367Z",
     "iopub.status.busy": "2023-12-06T10:32:57.989949Z",
     "iopub.status.idle": "2023-12-06T10:32:58.002934Z",
     "shell.execute_reply": "2023-12-06T10:32:58.001885Z"
    },
    "papermill": {
     "duration": 0.021841,
     "end_time": "2023-12-06T10:32:58.005372",
     "exception": false,
     "start_time": "2023-12-06T10:32:57.983531",
     "status": "completed"
    },
    "tags": []
   },
   "outputs": [],
   "source": [
    "test_path = r'/kaggle/input/llm-detect-ai-generated-text/test_essays.csv'\n",
    "test_df = pd.read_csv(test_path)\n",
    "\n",
    "sub_path = r'/kaggle/input/llm-detect-ai-generated-text/sample_submission.csv'\n",
    "sub_df = pd.read_csv(sub_path)\n"
   ]
  },
  {
   "cell_type": "code",
   "execution_count": 7,
   "id": "bad42397",
   "metadata": {
    "execution": {
     "iopub.execute_input": "2023-12-06T10:32:58.018625Z",
     "iopub.status.busy": "2023-12-06T10:32:58.018027Z",
     "iopub.status.idle": "2023-12-06T10:33:00.330953Z",
     "shell.execute_reply": "2023-12-06T10:33:00.330164Z"
    },
    "papermill": {
     "duration": 2.321942,
     "end_time": "2023-12-06T10:33:00.332984",
     "exception": false,
     "start_time": "2023-12-06T10:32:58.011042",
     "status": "completed"
    },
    "tags": []
   },
   "outputs": [
    {
     "data": {
      "text/html": [
       "<div>\n",
       "<style scoped>\n",
       "    .dataframe tbody tr th:only-of-type {\n",
       "        vertical-align: middle;\n",
       "    }\n",
       "\n",
       "    .dataframe tbody tr th {\n",
       "        vertical-align: top;\n",
       "    }\n",
       "\n",
       "    .dataframe thead th {\n",
       "        text-align: right;\n",
       "    }\n",
       "</style>\n",
       "<table border=\"1\" class=\"dataframe\">\n",
       "  <thead>\n",
       "    <tr style=\"text-align: right;\">\n",
       "      <th></th>\n",
       "      <th>text</th>\n",
       "      <th>label</th>\n",
       "      <th>prompt_name</th>\n",
       "      <th>source</th>\n",
       "      <th>RDizzl3_seven</th>\n",
       "    </tr>\n",
       "  </thead>\n",
       "  <tbody>\n",
       "    <tr>\n",
       "      <th>0</th>\n",
       "      <td>Phones\\n\\nModern humans today are always on th...</td>\n",
       "      <td>0</td>\n",
       "      <td>Phones and driving</td>\n",
       "      <td>persuade_corpus</td>\n",
       "      <td>False</td>\n",
       "    </tr>\n",
       "    <tr>\n",
       "      <th>1</th>\n",
       "      <td>This essay will explain if drivers should or s...</td>\n",
       "      <td>0</td>\n",
       "      <td>Phones and driving</td>\n",
       "      <td>persuade_corpus</td>\n",
       "      <td>False</td>\n",
       "    </tr>\n",
       "    <tr>\n",
       "      <th>2</th>\n",
       "      <td>Driving while the use of cellular devices\\n\\nT...</td>\n",
       "      <td>0</td>\n",
       "      <td>Phones and driving</td>\n",
       "      <td>persuade_corpus</td>\n",
       "      <td>False</td>\n",
       "    </tr>\n",
       "    <tr>\n",
       "      <th>3</th>\n",
       "      <td>Phones &amp; Driving\\n\\nDrivers should not be able...</td>\n",
       "      <td>0</td>\n",
       "      <td>Phones and driving</td>\n",
       "      <td>persuade_corpus</td>\n",
       "      <td>False</td>\n",
       "    </tr>\n",
       "    <tr>\n",
       "      <th>4</th>\n",
       "      <td>Cell Phone Operation While Driving\\n\\nThe abil...</td>\n",
       "      <td>0</td>\n",
       "      <td>Phones and driving</td>\n",
       "      <td>persuade_corpus</td>\n",
       "      <td>False</td>\n",
       "    </tr>\n",
       "    <tr>\n",
       "      <th>...</th>\n",
       "      <td>...</td>\n",
       "      <td>...</td>\n",
       "      <td>...</td>\n",
       "      <td>...</td>\n",
       "      <td>...</td>\n",
       "    </tr>\n",
       "    <tr>\n",
       "      <th>44863</th>\n",
       "      <td>Dear Senator,\\n\\nI am writing to you today to ...</td>\n",
       "      <td>1</td>\n",
       "      <td>Does the electoral college work?</td>\n",
       "      <td>kingki19_palm</td>\n",
       "      <td>True</td>\n",
       "    </tr>\n",
       "    <tr>\n",
       "      <th>44864</th>\n",
       "      <td>Dear Senator,\\n\\nI am writing to you today to ...</td>\n",
       "      <td>1</td>\n",
       "      <td>Does the electoral college work?</td>\n",
       "      <td>kingki19_palm</td>\n",
       "      <td>True</td>\n",
       "    </tr>\n",
       "    <tr>\n",
       "      <th>44865</th>\n",
       "      <td>Dear Senator,\\n\\nI am writing to you today to ...</td>\n",
       "      <td>1</td>\n",
       "      <td>Does the electoral college work?</td>\n",
       "      <td>kingki19_palm</td>\n",
       "      <td>True</td>\n",
       "    </tr>\n",
       "    <tr>\n",
       "      <th>44866</th>\n",
       "      <td>Dear Senator,\\n\\nI am writing to you today to ...</td>\n",
       "      <td>1</td>\n",
       "      <td>Does the electoral college work?</td>\n",
       "      <td>kingki19_palm</td>\n",
       "      <td>True</td>\n",
       "    </tr>\n",
       "    <tr>\n",
       "      <th>44867</th>\n",
       "      <td>Dear Senator,\\n\\nI am writing to you today to ...</td>\n",
       "      <td>1</td>\n",
       "      <td>Does the electoral college work?</td>\n",
       "      <td>kingki19_palm</td>\n",
       "      <td>True</td>\n",
       "    </tr>\n",
       "  </tbody>\n",
       "</table>\n",
       "<p>44868 rows × 5 columns</p>\n",
       "</div>"
      ],
      "text/plain": [
       "                                                    text  label  \\\n",
       "0      Phones\\n\\nModern humans today are always on th...      0   \n",
       "1      This essay will explain if drivers should or s...      0   \n",
       "2      Driving while the use of cellular devices\\n\\nT...      0   \n",
       "3      Phones & Driving\\n\\nDrivers should not be able...      0   \n",
       "4      Cell Phone Operation While Driving\\n\\nThe abil...      0   \n",
       "...                                                  ...    ...   \n",
       "44863  Dear Senator,\\n\\nI am writing to you today to ...      1   \n",
       "44864  Dear Senator,\\n\\nI am writing to you today to ...      1   \n",
       "44865  Dear Senator,\\n\\nI am writing to you today to ...      1   \n",
       "44866  Dear Senator,\\n\\nI am writing to you today to ...      1   \n",
       "44867  Dear Senator,\\n\\nI am writing to you today to ...      1   \n",
       "\n",
       "                            prompt_name           source  RDizzl3_seven  \n",
       "0                    Phones and driving  persuade_corpus          False  \n",
       "1                    Phones and driving  persuade_corpus          False  \n",
       "2                    Phones and driving  persuade_corpus          False  \n",
       "3                    Phones and driving  persuade_corpus          False  \n",
       "4                    Phones and driving  persuade_corpus          False  \n",
       "...                                 ...              ...            ...  \n",
       "44863  Does the electoral college work?    kingki19_palm           True  \n",
       "44864  Does the electoral college work?    kingki19_palm           True  \n",
       "44865  Does the electoral college work?    kingki19_palm           True  \n",
       "44866  Does the electoral college work?    kingki19_palm           True  \n",
       "44867  Does the electoral college work?    kingki19_palm           True  \n",
       "\n",
       "[44868 rows x 5 columns]"
      ]
     },
     "execution_count": 7,
     "metadata": {},
     "output_type": "execute_result"
    }
   ],
   "source": [
    "train_path_add = r'/kaggle/input/daigt-v2-train-dataset/train_v2_drcat_02.csv'\n",
    "train_df_add = pd.read_csv(train_path_add)\n",
    "train_df_add"
   ]
  },
  {
   "cell_type": "code",
   "execution_count": 8,
   "id": "1ac05899",
   "metadata": {
    "execution": {
     "iopub.execute_input": "2023-12-06T10:33:00.347487Z",
     "iopub.status.busy": "2023-12-06T10:33:00.347079Z",
     "iopub.status.idle": "2023-12-06T10:33:00.353753Z",
     "shell.execute_reply": "2023-12-06T10:33:00.352670Z"
    },
    "papermill": {
     "duration": 0.017164,
     "end_time": "2023-12-06T10:33:00.356430",
     "exception": false,
     "start_time": "2023-12-06T10:33:00.339266",
     "status": "completed"
    },
    "tags": []
   },
   "outputs": [
    {
     "name": "stdout",
     "output_type": "stream",
     "text": [
      "0    0.1\n",
      "1    0.9\n",
      "2    0.4\n",
      "Name: generated, dtype: float64\n"
     ]
    }
   ],
   "source": [
    "X_train = train_df_add['text']\n",
    "y_train = train_df_add['label']\n",
    "\n",
    "X_test = test_df['text']\n",
    "y_test = sub_df['generated']\n",
    "print(y_test)"
   ]
  },
  {
   "cell_type": "markdown",
   "id": "d25c3b91",
   "metadata": {
    "papermill": {
     "duration": 0.005658,
     "end_time": "2023-12-06T10:33:00.367850",
     "exception": false,
     "start_time": "2023-12-06T10:33:00.362192",
     "status": "completed"
    },
    "tags": []
   },
   "source": []
  },
  {
   "cell_type": "code",
   "execution_count": 9,
   "id": "b1487212",
   "metadata": {
    "execution": {
     "iopub.execute_input": "2023-12-06T10:33:00.381584Z",
     "iopub.status.busy": "2023-12-06T10:33:00.380955Z",
     "iopub.status.idle": "2023-12-06T10:33:23.857226Z",
     "shell.execute_reply": "2023-12-06T10:33:23.856019Z"
    },
    "papermill": {
     "duration": 23.486312,
     "end_time": "2023-12-06T10:33:23.859898",
     "exception": false,
     "start_time": "2023-12-06T10:33:00.373586",
     "status": "completed"
    },
    "tags": []
   },
   "outputs": [],
   "source": [
    "all_texts = X_train + X_test\n",
    "all_texts = [str(text) for text in all_texts]\n",
    "\n",
    "from keras.preprocessing.sequence import pad_sequences\n",
    "\n",
    "from keras.preprocessing.text import Tokenizer\n",
    "# Tokenize the combined data\n",
    "tokenizer = Tokenizer()\n",
    "tokenizer.fit_on_texts(all_texts)\n",
    "\n",
    "# Convert texts to sequences\n",
    "sequences_train = tokenizer.texts_to_sequences(X_train)\n",
    "sequences_test = tokenizer.texts_to_sequences(X_test)\n",
    "\n",
    "# Pad sequences to a consistent length\n",
    "max_len = max(max(len(seq) for seq in sequences_train), max(len(seq) for seq in sequences_test))\n",
    "X_train_padded = pad_sequences(sequences_train, maxlen=max_len)\n",
    "X_test_padded = pad_sequences(sequences_test, maxlen=max_len)\n",
    "\n"
   ]
  },
  {
   "cell_type": "code",
   "execution_count": 10,
   "id": "d484d0d9",
   "metadata": {
    "execution": {
     "iopub.execute_input": "2023-12-06T10:33:23.873654Z",
     "iopub.status.busy": "2023-12-06T10:33:23.872595Z",
     "iopub.status.idle": "2023-12-06T10:39:34.051545Z",
     "shell.execute_reply": "2023-12-06T10:39:34.050242Z"
    },
    "papermill": {
     "duration": 370.188041,
     "end_time": "2023-12-06T10:39:34.053756",
     "exception": false,
     "start_time": "2023-12-06T10:33:23.865715",
     "status": "completed"
    },
    "tags": []
   },
   "outputs": [
    {
     "name": "stdout",
     "output_type": "stream",
     "text": [
      "Epoch 1/50\n",
      "1963/1963 [==============================] - 9s 4ms/step - loss: 0.4199 - accuracy: 0.8277 - val_loss: 1.0819 - val_accuracy: 0.1077\n",
      "Epoch 2/50\n",
      "1963/1963 [==============================] - 9s 5ms/step - loss: 0.2656 - accuracy: 0.8894 - val_loss: 0.7854 - val_accuracy: 0.5919\n",
      "Epoch 3/50\n",
      "1963/1963 [==============================] - 7s 4ms/step - loss: 0.1695 - accuracy: 0.9491 - val_loss: 0.6292 - val_accuracy: 0.7256\n",
      "Epoch 4/50\n",
      "1963/1963 [==============================] - 7s 4ms/step - loss: 0.1271 - accuracy: 0.9609 - val_loss: 0.6022 - val_accuracy: 0.7588\n",
      "Epoch 5/50\n",
      "1963/1963 [==============================] - 7s 4ms/step - loss: 0.1075 - accuracy: 0.9672 - val_loss: 0.5717 - val_accuracy: 0.7840\n",
      "Epoch 6/50\n",
      "1963/1963 [==============================] - 7s 4ms/step - loss: 0.0968 - accuracy: 0.9705 - val_loss: 0.5618 - val_accuracy: 0.7964\n",
      "Epoch 7/50\n",
      "1963/1963 [==============================] - 7s 4ms/step - loss: 0.0899 - accuracy: 0.9721 - val_loss: 0.6559 - val_accuracy: 0.7696\n",
      "Epoch 8/50\n",
      "1963/1963 [==============================] - 7s 4ms/step - loss: 0.0852 - accuracy: 0.9733 - val_loss: 0.5864 - val_accuracy: 0.7973\n",
      "Epoch 9/50\n",
      "1963/1963 [==============================] - 7s 4ms/step - loss: 0.0815 - accuracy: 0.9746 - val_loss: 0.5652 - val_accuracy: 0.8057\n",
      "Epoch 10/50\n",
      "1963/1963 [==============================] - 7s 4ms/step - loss: 0.0793 - accuracy: 0.9750 - val_loss: 0.5456 - val_accuracy: 0.8129\n",
      "Epoch 11/50\n",
      "1963/1963 [==============================] - 7s 4ms/step - loss: 0.0770 - accuracy: 0.9762 - val_loss: 0.6057 - val_accuracy: 0.7958\n",
      "Epoch 12/50\n",
      "1963/1963 [==============================] - 8s 4ms/step - loss: 0.0754 - accuracy: 0.9762 - val_loss: 0.5267 - val_accuracy: 0.8206\n",
      "Epoch 13/50\n",
      "1963/1963 [==============================] - 7s 4ms/step - loss: 0.0741 - accuracy: 0.9768 - val_loss: 0.5831 - val_accuracy: 0.8042\n",
      "Epoch 14/50\n",
      "1963/1963 [==============================] - 7s 3ms/step - loss: 0.0727 - accuracy: 0.9771 - val_loss: 0.6719 - val_accuracy: 0.7786\n",
      "Epoch 15/50\n",
      "1963/1963 [==============================] - 7s 4ms/step - loss: 0.0719 - accuracy: 0.9777 - val_loss: 0.6116 - val_accuracy: 0.7977\n",
      "Epoch 16/50\n",
      "1963/1963 [==============================] - 7s 3ms/step - loss: 0.0709 - accuracy: 0.9777 - val_loss: 0.5603 - val_accuracy: 0.8114\n",
      "Epoch 17/50\n",
      "1963/1963 [==============================] - 7s 3ms/step - loss: 0.0702 - accuracy: 0.9776 - val_loss: 0.4824 - val_accuracy: 0.8366\n",
      "Epoch 18/50\n",
      "1963/1963 [==============================] - 7s 4ms/step - loss: 0.0695 - accuracy: 0.9785 - val_loss: 0.4124 - val_accuracy: 0.8609\n",
      "Epoch 19/50\n",
      "1963/1963 [==============================] - 7s 4ms/step - loss: 0.0690 - accuracy: 0.9783 - val_loss: 0.5499 - val_accuracy: 0.8159\n",
      "Epoch 20/50\n",
      "1963/1963 [==============================] - 7s 4ms/step - loss: 0.0684 - accuracy: 0.9783 - val_loss: 0.5488 - val_accuracy: 0.8174\n",
      "Epoch 21/50\n",
      "1963/1963 [==============================] - 7s 4ms/step - loss: 0.0677 - accuracy: 0.9790 - val_loss: 0.5033 - val_accuracy: 0.8321\n",
      "Epoch 22/50\n",
      "1963/1963 [==============================] - 8s 4ms/step - loss: 0.0673 - accuracy: 0.9790 - val_loss: 0.4566 - val_accuracy: 0.8481\n",
      "Epoch 23/50\n",
      "1963/1963 [==============================] - 8s 4ms/step - loss: 0.0667 - accuracy: 0.9787 - val_loss: 0.5487 - val_accuracy: 0.8204\n",
      "Epoch 24/50\n",
      "1963/1963 [==============================] - 7s 4ms/step - loss: 0.0665 - accuracy: 0.9790 - val_loss: 0.4778 - val_accuracy: 0.8416\n",
      "Epoch 25/50\n",
      "1963/1963 [==============================] - 7s 4ms/step - loss: 0.0664 - accuracy: 0.9793 - val_loss: 0.4640 - val_accuracy: 0.8469\n",
      "Epoch 26/50\n",
      "1963/1963 [==============================] - 7s 4ms/step - loss: 0.0661 - accuracy: 0.9793 - val_loss: 0.5424 - val_accuracy: 0.8227\n",
      "Epoch 27/50\n",
      "1963/1963 [==============================] - 7s 4ms/step - loss: 0.0657 - accuracy: 0.9792 - val_loss: 0.4970 - val_accuracy: 0.8372\n",
      "Epoch 28/50\n",
      "1963/1963 [==============================] - 7s 4ms/step - loss: 0.0657 - accuracy: 0.9797 - val_loss: 0.5626 - val_accuracy: 0.8167\n",
      "Epoch 29/50\n",
      "1963/1963 [==============================] - 7s 4ms/step - loss: 0.0654 - accuracy: 0.9799 - val_loss: 0.4687 - val_accuracy: 0.8471\n",
      "Epoch 30/50\n",
      "1963/1963 [==============================] - 7s 4ms/step - loss: 0.0651 - accuracy: 0.9792 - val_loss: 0.4224 - val_accuracy: 0.8619\n",
      "Epoch 31/50\n",
      "1963/1963 [==============================] - 9s 4ms/step - loss: 0.0650 - accuracy: 0.9797 - val_loss: 0.4814 - val_accuracy: 0.8437\n",
      "Epoch 32/50\n",
      "1963/1963 [==============================] - 7s 4ms/step - loss: 0.0650 - accuracy: 0.9789 - val_loss: 0.4886 - val_accuracy: 0.8415\n",
      "Epoch 33/50\n",
      "1963/1963 [==============================] - 7s 4ms/step - loss: 0.0646 - accuracy: 0.9799 - val_loss: 0.5809 - val_accuracy: 0.8138\n",
      "Epoch 34/50\n",
      "1963/1963 [==============================] - 8s 4ms/step - loss: 0.0644 - accuracy: 0.9798 - val_loss: 0.5436 - val_accuracy: 0.8251\n",
      "Epoch 35/50\n",
      "1963/1963 [==============================] - 7s 4ms/step - loss: 0.0647 - accuracy: 0.9797 - val_loss: 0.6569 - val_accuracy: 0.7933\n",
      "Epoch 36/50\n",
      "1963/1963 [==============================] - 7s 4ms/step - loss: 0.0643 - accuracy: 0.9799 - val_loss: 0.5320 - val_accuracy: 0.8289\n",
      "Epoch 37/50\n",
      "1963/1963 [==============================] - 7s 4ms/step - loss: 0.0641 - accuracy: 0.9798 - val_loss: 0.5526 - val_accuracy: 0.8232\n",
      "Epoch 38/50\n",
      "1963/1963 [==============================] - 7s 4ms/step - loss: 0.0642 - accuracy: 0.9797 - val_loss: 0.5554 - val_accuracy: 0.8221\n",
      "Epoch 39/50\n",
      "1963/1963 [==============================] - 7s 4ms/step - loss: 0.0639 - accuracy: 0.9795 - val_loss: 0.5872 - val_accuracy: 0.8125\n",
      "Epoch 40/50\n",
      "1963/1963 [==============================] - 7s 4ms/step - loss: 0.0638 - accuracy: 0.9802 - val_loss: 0.5420 - val_accuracy: 0.8263\n",
      "Epoch 41/50\n",
      "1963/1963 [==============================] - 8s 4ms/step - loss: 0.0636 - accuracy: 0.9798 - val_loss: 0.5250 - val_accuracy: 0.8308\n",
      "Epoch 42/50\n",
      "1963/1963 [==============================] - 7s 4ms/step - loss: 0.0636 - accuracy: 0.9801 - val_loss: 0.4625 - val_accuracy: 0.8523\n",
      "Epoch 43/50\n",
      "1963/1963 [==============================] - 7s 4ms/step - loss: 0.0637 - accuracy: 0.9798 - val_loss: 0.5430 - val_accuracy: 0.8263\n",
      "Epoch 44/50\n",
      "1963/1963 [==============================] - 7s 4ms/step - loss: 0.0635 - accuracy: 0.9798 - val_loss: 0.5463 - val_accuracy: 0.8254\n",
      "Epoch 45/50\n",
      "1963/1963 [==============================] - 7s 4ms/step - loss: 0.0634 - accuracy: 0.9800 - val_loss: 0.5356 - val_accuracy: 0.8305\n",
      "Epoch 46/50\n",
      "1963/1963 [==============================] - 7s 4ms/step - loss: 0.0635 - accuracy: 0.9804 - val_loss: 0.5309 - val_accuracy: 0.8308\n",
      "Epoch 47/50\n",
      "1963/1963 [==============================] - 7s 4ms/step - loss: 0.0635 - accuracy: 0.9798 - val_loss: 0.4505 - val_accuracy: 0.8562\n",
      "Epoch 48/50\n",
      "1963/1963 [==============================] - 7s 4ms/step - loss: 0.0634 - accuracy: 0.9796 - val_loss: 0.5731 - val_accuracy: 0.8189\n",
      "Epoch 49/50\n",
      "1963/1963 [==============================] - 7s 4ms/step - loss: 0.0633 - accuracy: 0.9801 - val_loss: 0.4398 - val_accuracy: 0.8600\n",
      "Epoch 50/50\n",
      "1963/1963 [==============================] - 9s 4ms/step - loss: 0.0632 - accuracy: 0.9802 - val_loss: 0.4696 - val_accuracy: 0.8508\n",
      "1/1 [==============================] - 0s 123ms/step - loss: 0.9809 - accuracy: 0.0000e+00\n",
      "Test Loss: 0.9809, Test Accuracy: 0.0000\n"
     ]
    }
   ],
   "source": [
    "from keras.models import Sequential\n",
    "from keras.layers import Embedding, GlobalAveragePooling1D, Dense\n",
    "model = Sequential()\n",
    "model.add(Embedding(input_dim=len(tokenizer.word_index) + 1, output_dim=16, input_length=max_len))\n",
    "model.add(GlobalAveragePooling1D())\n",
    "model.add(Dense(1, activation='sigmoid'))  # Binary classification\n",
    "\n",
    "# Compile the model\n",
    "model.compile(optimizer='adam', loss='binary_crossentropy', metrics=['accuracy'])\n",
    "\n",
    "# Train the model\n",
    "model.fit(X_train_padded, y_train, epochs=50, batch_size=16, validation_split=0.3)\n",
    "\n",
    "# Evaluate the model on the test set\n",
    "loss, accuracy = model.evaluate(X_test_padded, y_test)\n",
    "print(f\"Test Loss: {loss:.4f}, Test Accuracy: {accuracy:.4f}\")"
   ]
  },
  {
   "cell_type": "code",
   "execution_count": 11,
   "id": "56a75574",
   "metadata": {
    "execution": {
     "iopub.execute_input": "2023-12-06T10:39:34.821485Z",
     "iopub.status.busy": "2023-12-06T10:39:34.821043Z",
     "iopub.status.idle": "2023-12-06T10:39:34.959473Z",
     "shell.execute_reply": "2023-12-06T10:39:34.958484Z"
    },
    "papermill": {
     "duration": 0.526719,
     "end_time": "2023-12-06T10:39:34.961606",
     "exception": false,
     "start_time": "2023-12-06T10:39:34.434887",
     "status": "completed"
    },
    "tags": []
   },
   "outputs": [
    {
     "name": "stdout",
     "output_type": "stream",
     "text": [
      "1/1 [==============================] - 0s 86ms/step\n",
      "Predictions: [[0.80433357]\n",
      " [0.8168957 ]\n",
      " [0.81735057]]\n"
     ]
    }
   ],
   "source": [
    "\n",
    "predictions = model.predict(X_test_padded)\n",
    "print(\"Predictions:\", predictions)"
   ]
  },
  {
   "cell_type": "code",
   "execution_count": 12,
   "id": "e0716857",
   "metadata": {
    "execution": {
     "iopub.execute_input": "2023-12-06T10:39:35.797102Z",
     "iopub.status.busy": "2023-12-06T10:39:35.796452Z",
     "iopub.status.idle": "2023-12-06T10:39:35.808749Z",
     "shell.execute_reply": "2023-12-06T10:39:35.807535Z"
    },
    "papermill": {
     "duration": 0.465446,
     "end_time": "2023-12-06T10:39:35.811122",
     "exception": false,
     "start_time": "2023-12-06T10:39:35.345676",
     "status": "completed"
    },
    "tags": []
   },
   "outputs": [
    {
     "name": "stdout",
     "output_type": "stream",
     "text": [
      "         id  generated\n",
      "0  0000aaaa   0.804334\n",
      "1  1111bbbb   0.816896\n",
      "2  2222cccc   0.817351\n"
     ]
    },
    {
     "name": "stderr",
     "output_type": "stream",
     "text": [
      "/tmp/ipykernel_19/1053630155.py:2: SettingWithCopyWarning: \n",
      "A value is trying to be set on a copy of a slice from a DataFrame.\n",
      "Try using .loc[row_indexer,col_indexer] = value instead\n",
      "\n",
      "See the caveats in the documentation: https://pandas.pydata.org/pandas-docs/stable/user_guide/indexing.html#returning-a-view-versus-a-copy\n",
      "  submission['generated'] = predictions\n"
     ]
    }
   ],
   "source": [
    "submission = test_df[['id']]\n",
    "submission['generated'] = predictions\n",
    "print(submission)\n"
   ]
  },
  {
   "cell_type": "code",
   "execution_count": 13,
   "id": "42cfe90c",
   "metadata": {
    "execution": {
     "iopub.execute_input": "2023-12-06T10:39:36.576029Z",
     "iopub.status.busy": "2023-12-06T10:39:36.575073Z",
     "iopub.status.idle": "2023-12-06T10:39:36.583160Z",
     "shell.execute_reply": "2023-12-06T10:39:36.582190Z"
    },
    "papermill": {
     "duration": 0.393813,
     "end_time": "2023-12-06T10:39:36.585363",
     "exception": false,
     "start_time": "2023-12-06T10:39:36.191550",
     "status": "completed"
    },
    "tags": []
   },
   "outputs": [],
   "source": [
    "submission.to_csv('submission.csv',index = False)\n"
   ]
  },
  {
   "cell_type": "code",
   "execution_count": 14,
   "id": "29af6104",
   "metadata": {
    "execution": {
     "iopub.execute_input": "2023-12-06T10:39:37.414063Z",
     "iopub.status.busy": "2023-12-06T10:39:37.413696Z",
     "iopub.status.idle": "2023-12-06T10:39:37.418141Z",
     "shell.execute_reply": "2023-12-06T10:39:37.416852Z"
    },
    "papermill": {
     "duration": 0.449069,
     "end_time": "2023-12-06T10:39:37.420581",
     "exception": false,
     "start_time": "2023-12-06T10:39:36.971512",
     "status": "completed"
    },
    "tags": []
   },
   "outputs": [],
   "source": [
    "#pd.read_csv(r'/kaggle/working/submission.csv')"
   ]
  }
 ],
 "metadata": {
  "kaggle": {
   "accelerator": "none",
   "dataSources": [
    {
     "databundleVersionId": 6888007,
     "sourceId": 61542,
     "sourceType": "competition"
    },
    {
     "datasetId": 4005256,
     "sourceId": 6977472,
     "sourceType": "datasetVersion"
    }
   ],
   "dockerImageVersionId": 30587,
   "isGpuEnabled": false,
   "isInternetEnabled": false,
   "language": "python",
   "sourceType": "notebook"
  },
  "kernelspec": {
   "display_name": "Python 3",
   "language": "python",
   "name": "python3"
  },
  "language_info": {
   "codemirror_mode": {
    "name": "ipython",
    "version": 3
   },
   "file_extension": ".py",
   "mimetype": "text/x-python",
   "name": "python",
   "nbconvert_exporter": "python",
   "pygments_lexer": "ipython3",
   "version": "3.10.12"
  },
  "papermill": {
   "default_parameters": {},
   "duration": 407.304869,
   "end_time": "2023-12-06T10:39:39.526664",
   "environment_variables": {},
   "exception": null,
   "input_path": "__notebook__.ipynb",
   "output_path": "__notebook__.ipynb",
   "parameters": {},
   "start_time": "2023-12-06T10:32:52.221795",
   "version": "2.4.0"
  }
 },
 "nbformat": 4,
 "nbformat_minor": 5
}
